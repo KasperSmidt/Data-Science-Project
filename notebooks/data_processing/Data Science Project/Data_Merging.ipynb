{
 "cells": [
  {
   "cell_type": "code",
   "execution_count": 1,
   "id": "37df5ed3-2414-44f0-816c-5fd3a372640e",
   "metadata": {},
   "outputs": [],
   "source": [
    "import pandas as pd"
   ]
  },
  {
   "cell_type": "raw",
   "id": "69cec2a8-1cc3-49f5-af57-3af9fbc1bf93",
   "metadata": {},
   "source": [
    "import pandas as pd\n",
    "\n",
    "# Paths to your CSV files\n",
    "files = [\n",
    "    \"C:/Users/Kasper/OneDrive - Aarhus universitet\\Dokumenter\\Kandidat/2. Semester/Data Science Project/Data science project part 2/LaLiga_2019-2020.csv\",\n",
    "    \"C:/Users/Kasper/OneDrive - Aarhus universitet\\Dokumenter\\Kandidat/2. Semester/Data Science Project/Data science project part 2/LaLiga 2020_2021.csv\",\n",
    "    \"C:/Users/Kasper/OneDrive - Aarhus universitet\\Dokumenter\\Kandidat/2. Semester/Data Science Project/Data science project part 2/LaLiga 2021_2022.csv\",\n",
    "    \"C:/Users/Kasper/OneDrive - Aarhus universitet\\Dokumenter\\Kandidat/2. Semester/Data Science Project/Data science project part 2/LaLiga 2022_2023.csv\",\n",
    "    \"C:/Users/Kasper/OneDrive - Aarhus universitet\\Dokumenter\\Kandidat/2. Semester/Data Science Project/Data science project part 2/LaLiga 2023_2024.csv\"\n",
    "]\n",
    "\n",
    "# Load each CSV file into a DataFrame\n",
    "data_frames = [pd.read_csv(file) for file in files]\n",
    "\n",
    "# If you need to concatenate them into a single DataFrame\n",
    "Bet_365_data = pd.concat(data_frames, ignore_index=True)\n",
    "\n",
    "print(Bet_365_data.head()) "
   ]
  },
  {
   "cell_type": "code",
   "execution_count": null,
   "id": "b731aaff-ce8e-4902-a1d6-001faa1da959",
   "metadata": {},
   "outputs": [],
   "source": []
  },
  {
   "cell_type": "code",
   "execution_count": 3,
   "id": "08e4f570-307f-4b9e-9e41-83bc6b9fe200",
   "metadata": {},
   "outputs": [
    {
     "name": "stdout",
     "output_type": "stream",
     "text": [
      "(1860, 105)\n"
     ]
    }
   ],
   "source": [
    "print(Bet_365_data.shape)"
   ]
  },
  {
   "cell_type": "markdown",
   "id": "605d8096-2275-4b01-9a41-cbaff78ba5a5",
   "metadata": {},
   "source": [
    "We now have a combined dataset for Bet_365 data. we will proceed to get a combined dataset for the matches\n",
    "So we can merge them together"
   ]
  },
  {
   "cell_type": "code",
   "execution_count": 4,
   "id": "47cba4b0-7571-4d3d-b2e2-9a87a18a0954",
   "metadata": {},
   "outputs": [
    {
     "name": "stdout",
     "output_type": "stream",
     "text": [
      "Season 2019-2020: Original shape (419, 14), Cleaned shape (380, 14)\n",
      "Season 2020-2021: Original shape (427, 14), Cleaned shape (380, 14)\n",
      "Season 2021-2022: Original shape (424, 14), Cleaned shape (380, 14)\n",
      "Season 2022-2023: Original shape (418, 14), Cleaned shape (380, 14)\n",
      "Season 2023-2024: Original shape (421, 14), Cleaned shape (340, 14)\n"
     ]
    }
   ],
   "source": [
    "import pandas as pd\n",
    "\n",
    "file_paths = [\n",
    "    \"C:/Users/Kasper/OneDrive - Aarhus universitet\\Dokumenter\\Kandidat/2. Semester/Data Science Project/Data science project part 2/matches_2019-2020.csv\",\n",
    "    \"C:/Users/Kasper/OneDrive - Aarhus universitet\\Dokumenter\\Kandidat/2. Semester/Data Science Project/Data science project part 2/matches_2020-2021.csv\",\n",
    "    \"C:/Users/Kasper/OneDrive - Aarhus universitet\\Dokumenter\\Kandidat/2. Semester/Data Science Project/Data science project part 2/matches_2021-2022.csv\",\n",
    "    \"C:/Users/Kasper/OneDrive - Aarhus universitet\\Dokumenter\\Kandidat/2. Semester/Data Science Project/Data science project part 2/matches_2022-2023.csv\",\n",
    "    \"C:/Users/Kasper/OneDrive - Aarhus universitet\\Dokumenter\\Kandidat/2. Semester/Data Science Project/Data science project part 2/matches_2023-2024.csv\"\n",
    "]\n",
    "\n",
    "dataframes = {}  # This dictionary will store each DataFrame with its corresponding season as the key\n",
    "\n",
    "for file_path in file_paths:\n",
    "    season = file_path.split('_')[-1].split('.')[0]  # Extract season from file name\n",
    "    df = pd.read_csv(file_path, index_col=0)  # Load the CSV file, ignoring the first index column\n",
    "    original_shape = df.shape  # Save the original shape before cleaning\n",
    "    df = df.dropna(subset=['Date'])  # Remove rows where 'Date' is empty\n",
    "    df = df.dropna(subset=['Score'])\n",
    "    cleaned_shape = df.shape  # Save the cleaned shape\n",
    "    dataframes[season] = df  # Store DataFrame in dictionary\n",
    "    print(f\"Season {season}: Original shape {original_shape}, Cleaned shape {cleaned_shape}\")\n",
    "\n"
   ]
  },
  {
   "cell_type": "code",
   "execution_count": 5,
   "id": "9a25f853-5f27-4be8-8cd0-0c6ec3aed790",
   "metadata": {},
   "outputs": [
    {
     "name": "stdout",
     "output_type": "stream",
     "text": [
      "(1860, 14)\n",
      "    Wk  Day        Date   Time           Home   xG Score  xG.1           Away  \\\n",
      "0  1.0  Fri  2019-08-16  21:00  Athletic Club  0.5   1–0   0.9      Barcelona   \n",
      "1  1.0  Sat  2019-08-17  17:00     Celta Vigo  1.6   1–3   2.1    Real Madrid   \n",
      "2  1.0  Sat  2019-08-17  19:00       Valencia  2.3   1–1   1.8  Real Sociedad   \n",
      "3  1.0  Sat  2019-08-17  20:00       Mallorca  1.6   2–1   0.7          Eibar   \n",
      "4  1.0  Sat  2019-08-17  21:00        Leganés  1.4   0–1   0.2        Osasuna   \n",
      "\n",
      "   Attendance                          Venue           Referee  Match Report  \\\n",
      "0     47693.0                      San Mamés  Carlos del Cerro  Match Report   \n",
      "1     23566.0            Estadio de Balaídos        Daniel Ask  Match Report   \n",
      "2     41846.0            Estadio de Mestalla         Jesús Gil  Match Report   \n",
      "3     15127.0               Iberostar Estadi      Mario Melero  Match Report   \n",
      "4     10020.0  Estadio Municipal de Butarque    Alberola Rojas  Match Report   \n",
      "\n",
      "   Notes  \n",
      "0    NaN  \n",
      "1    NaN  \n",
      "2    NaN  \n",
      "3    NaN  \n",
      "4    NaN  \n"
     ]
    }
   ],
   "source": [
    "# Concatenate all DataFrames stored in the dictionary\n",
    "combined_matches = pd.concat(dataframes.values(), ignore_index=True)\n",
    "\n",
    "# Print the shape of the combined DataFrame to verify the results\n",
    "print(combined_matches.shape)\n",
    "\n",
    "# Optionally, print the first few rows to inspect the combined data\n",
    "print(combined_matches.head())\n"
   ]
  },
  {
   "cell_type": "markdown",
   "id": "64bb0865-0cbe-4683-a589-bcca5dfe2b6a",
   "metadata": {},
   "source": [
    "We now have both the data files combined into one, containing all 5 seasons. the next step\n",
    "in the process is to change the columns for date and time so they match, which makes it possible for us\n",
    "to merge the 2 datasets."
   ]
  },
  {
   "cell_type": "code",
   "execution_count": 6,
   "id": "5c9f0ca9-ff6c-42af-8744-8887fcaa2491",
   "metadata": {},
   "outputs": [
    {
     "name": "stdout",
     "output_type": "stream",
     "text": [
      "    Wk  Day        Date   Time           Home   xG Score  xG.1           Away  \\\n",
      "0  1.0  Fri  2019-08-16  21:00  Athletic Club  0.5   1–0   0.9      Barcelona   \n",
      "1  1.0  Sat  2019-08-17  17:00     Celta Vigo  1.6   1–3   2.1    Real Madrid   \n",
      "2  1.0  Sat  2019-08-17  19:00       Valencia  2.3   1–1   1.8  Real Sociedad   \n",
      "3  1.0  Sat  2019-08-17  20:00       Mallorca  1.6   2–1   0.7          Eibar   \n",
      "4  1.0  Sat  2019-08-17  21:00        Leganés  1.4   0–1   0.2        Osasuna   \n",
      "\n",
      "   Attendance                          Venue           Referee  Match Report  \\\n",
      "0     47693.0                      San Mamés  Carlos del Cerro  Match Report   \n",
      "1     23566.0            Estadio de Balaídos        Daniel Ask  Match Report   \n",
      "2     41846.0            Estadio de Mestalla         Jesús Gil  Match Report   \n",
      "3     15127.0               Iberostar Estadi      Mario Melero  Match Report   \n",
      "4     10020.0  Estadio Municipal de Butarque    Alberola Rojas  Match Report   \n",
      "\n",
      "   Notes  \n",
      "0    NaN  \n",
      "1    NaN  \n",
      "2    NaN  \n",
      "3    NaN  \n",
      "4    NaN  \n"
     ]
    }
   ],
   "source": [
    "print(combined_matches.head())"
   ]
  },
  {
   "cell_type": "code",
   "execution_count": 7,
   "id": "0e6b2d4a-6ce3-4a91-a660-c0c47183ed02",
   "metadata": {},
   "outputs": [],
   "source": [
    "# Convert date in laliga_data to datetime\n",
    "Bet_365_data['Date'] = pd.to_datetime(Bet_365_data['Date'], dayfirst=True)\n",
    "\n",
    "# Convert date in shot_poss to datetime\n",
    "combined_matches['Date'] = pd.to_datetime(combined_matches['Date'], yearfirst=True)\n"
   ]
  },
  {
   "cell_type": "code",
   "execution_count": 8,
   "id": "0c3495fc-c806-472a-90c6-5d1443332518",
   "metadata": {},
   "outputs": [
    {
     "name": "stdout",
     "output_type": "stream",
     "text": [
      "    Wk  Day       Date   Time           Home   xG Score  xG.1           Away  \\\n",
      "0  1.0  Fri 2019-08-16  21:00  Athletic Club  0.5   1–0   0.9      Barcelona   \n",
      "1  1.0  Sat 2019-08-17  17:00     Celta Vigo  1.6   1–3   2.1    Real Madrid   \n",
      "2  1.0  Sat 2019-08-17  19:00       Valencia  2.3   1–1   1.8  Real Sociedad   \n",
      "3  1.0  Sat 2019-08-17  20:00       Mallorca  1.6   2–1   0.7          Eibar   \n",
      "4  1.0  Sat 2019-08-17  21:00        Leganés  1.4   0–1   0.2        Osasuna   \n",
      "\n",
      "   Attendance                          Venue           Referee  Match Report  \\\n",
      "0     47693.0                      San Mamés  Carlos del Cerro  Match Report   \n",
      "1     23566.0            Estadio de Balaídos        Daniel Ask  Match Report   \n",
      "2     41846.0            Estadio de Mestalla         Jesús Gil  Match Report   \n",
      "3     15127.0               Iberostar Estadi      Mario Melero  Match Report   \n",
      "4     10020.0  Estadio Municipal de Butarque    Alberola Rojas  Match Report   \n",
      "\n",
      "   Notes  \n",
      "0    NaN  \n",
      "1    NaN  \n",
      "2    NaN  \n",
      "3    NaN  \n",
      "4    NaN  \n"
     ]
    }
   ],
   "source": [
    "print(combined_matches.head())"
   ]
  },
  {
   "cell_type": "code",
   "execution_count": 9,
   "id": "248d70b1-967f-4af9-b2f8-6255afc820e4",
   "metadata": {},
   "outputs": [
    {
     "name": "stdout",
     "output_type": "stream",
     "text": [
      "   Div       Date   Time    HomeTeam     AwayTeam  FTHG  FTAG FTR  HTHG  HTAG  \\\n",
      "0  SP1 2019-08-16  20:00  Ath Bilbao    Barcelona     1     0   H     0     0   \n",
      "1  SP1 2019-08-17  16:00       Celta  Real Madrid     1     3   A     0     1   \n",
      "2  SP1 2019-08-17  18:00    Valencia     Sociedad     1     1   D     0     0   \n",
      "3  SP1 2019-08-17  19:00    Mallorca        Eibar     2     1   H     1     0   \n",
      "4  SP1 2019-08-17  20:00     Leganes      Osasuna     0     1   A     0     0   \n",
      "\n",
      "   ... AvgC<2.5  AHCh  B365CAHH  B365CAHA  PCAHH  PCAHA  MaxCAHH  MaxCAHA  \\\n",
      "0  ...     1.97  0.75      1.93      2.00   1.91   2.01     2.02     2.03   \n",
      "1  ...     2.63  1.00      1.82      1.97   1.85   2.07     2.00     2.20   \n",
      "2  ...     1.82 -0.75      1.94      1.99   1.92   2.00     1.96     2.12   \n",
      "3  ...     1.66  0.00      2.11      1.82   2.09   1.83     2.12     1.88   \n",
      "4  ...     1.46 -0.50      1.89      2.04   1.90   2.01     1.95     2.06   \n",
      "\n",
      "   AvgCAHH  AvgCAHA  \n",
      "0     1.91     1.98  \n",
      "1     1.82     2.06  \n",
      "2     1.89     2.00  \n",
      "3     2.07     1.83  \n",
      "4     1.90     1.99  \n",
      "\n",
      "[5 rows x 105 columns]\n"
     ]
    }
   ],
   "source": [
    "print(Bet_365_data.head())"
   ]
  },
  {
   "cell_type": "code",
   "execution_count": 10,
   "id": "0ea355d1-249d-4673-8e22-e7235ca8b58e",
   "metadata": {},
   "outputs": [
    {
     "name": "stdout",
     "output_type": "stream",
     "text": [
      "Index(['Div', 'Date', 'Time', 'Home', 'Away', 'FTHG', 'FTAG', 'FTR', 'HTHG',\n",
      "       'HTAG',\n",
      "       ...\n",
      "       'AvgC<2.5', 'AHCh', 'B365CAHH', 'B365CAHA', 'PCAHH', 'PCAHA', 'MaxCAHH',\n",
      "       'MaxCAHA', 'AvgCAHH', 'AvgCAHA'],\n",
      "      dtype='object', length=105)\n",
      "   Div       Date   Time        Home         Away  FTHG  FTAG FTR  HTHG  HTAG  \\\n",
      "0  SP1 2019-08-16  20:00  Ath Bilbao    Barcelona     1     0   H     0     0   \n",
      "1  SP1 2019-08-17  16:00       Celta  Real Madrid     1     3   A     0     1   \n",
      "2  SP1 2019-08-17  18:00    Valencia     Sociedad     1     1   D     0     0   \n",
      "3  SP1 2019-08-17  19:00    Mallorca        Eibar     2     1   H     1     0   \n",
      "4  SP1 2019-08-17  20:00     Leganes      Osasuna     0     1   A     0     0   \n",
      "\n",
      "   ... AvgC<2.5  AHCh  B365CAHH  B365CAHA  PCAHH  PCAHA  MaxCAHH  MaxCAHA  \\\n",
      "0  ...     1.97  0.75      1.93      2.00   1.91   2.01     2.02     2.03   \n",
      "1  ...     2.63  1.00      1.82      1.97   1.85   2.07     2.00     2.20   \n",
      "2  ...     1.82 -0.75      1.94      1.99   1.92   2.00     1.96     2.12   \n",
      "3  ...     1.66  0.00      2.11      1.82   2.09   1.83     2.12     1.88   \n",
      "4  ...     1.46 -0.50      1.89      2.04   1.90   2.01     1.95     2.06   \n",
      "\n",
      "   AvgCAHH  AvgCAHA  \n",
      "0     1.91     1.98  \n",
      "1     1.82     2.06  \n",
      "2     1.89     2.00  \n",
      "3     2.07     1.83  \n",
      "4     1.90     1.99  \n",
      "\n",
      "[5 rows x 105 columns]\n"
     ]
    }
   ],
   "source": [
    "# Rename columns in the DataFrame\n",
    "Bet_365_data = Bet_365_data.rename(columns={'HomeTeam': 'Home', 'AwayTeam': 'Away'})\n",
    "\n",
    "# Verify the changes by printing the DataFrame's columns or the first few rows\n",
    "print(Bet_365_data.columns)\n",
    "print(Bet_365_data.head())\n"
   ]
  },
  {
   "cell_type": "code",
   "execution_count": 11,
   "id": "27172994-a777-4845-91f4-f8b293f08068",
   "metadata": {},
   "outputs": [
    {
     "name": "stdout",
     "output_type": "stream",
     "text": [
      "Unique Home Teams in Bet_365_data:\n",
      "6          Alaves\n",
      "24        Almeria\n",
      "0      Ath Bilbao\n",
      "9      Ath Madrid\n",
      "15      Barcelona\n",
      "8           Betis\n",
      "20          Cadiz\n",
      "1           Celta\n",
      "18          Eibar\n",
      "22          Elche\n",
      "7         Espanol\n",
      "14         Getafe\n",
      "25         Girona\n",
      "10        Granada\n",
      "21         Huesca\n",
      "26     Las Palmas\n",
      "4         Leganes\n",
      "11        Levante\n",
      "3        Mallorca\n",
      "12        Osasuna\n",
      "13    Real Madrid\n",
      "16        Sevilla\n",
      "17       Sociedad\n",
      "2        Valencia\n",
      "19     Valladolid\n",
      "23      Vallecano\n",
      "5      Villarreal\n",
      "dtype: object\n",
      "Unique Home Teams in combined_matches:\n",
      "6              Alavés\n",
      "24            Almería\n",
      "0       Athletic Club\n",
      "9     Atlético Madrid\n",
      "15          Barcelona\n",
      "8               Betis\n",
      "1          Celta Vigo\n",
      "20              Cádiz\n",
      "18              Eibar\n",
      "22              Elche\n",
      "7            Espanyol\n",
      "14             Getafe\n",
      "25             Girona\n",
      "10            Granada\n",
      "21             Huesca\n",
      "26         Las Palmas\n",
      "4             Leganés\n",
      "11            Levante\n",
      "3            Mallorca\n",
      "12            Osasuna\n",
      "23     Rayo Vallecano\n",
      "13        Real Madrid\n",
      "17      Real Sociedad\n",
      "16            Sevilla\n",
      "2            Valencia\n",
      "19         Valladolid\n",
      "5          Villarreal\n",
      "dtype: object\n"
     ]
    }
   ],
   "source": [
    "# For the Bet_365_data DataFrame\n",
    "unique_homes_bet_365 = pd.Series(Bet_365_data['Home'].unique()).sort_values()\n",
    "print(\"Unique Home Teams in Bet_365_data:\")\n",
    "print(unique_homes_bet_365)\n",
    "\n",
    "# Assuming the second DataFrame is called combined_matches\n",
    "unique_homes_combined = pd.Series(combined_matches['Home'].unique()).sort_values()\n",
    "print(\"Unique Home Teams in combined_matches:\")\n",
    "print(unique_homes_combined)\n"
   ]
  },
  {
   "cell_type": "raw",
   "id": "117c4086-2b27-469a-96f7-676d89202c88",
   "metadata": {},
   "source": [
    "# Define the mapping dictionary\n",
    "name_mapping = {\n",
    "    \"Alaves\": \"Alavés\",\n",
    "    \"Almeria\": \"Almería\",\n",
    "    \"Ath Bilbao\": \"Athletic Club\",\n",
    "    \"Ath Madrid\": \"Atlético Madrid\",\n",
    "    \"Betis\": \"Betis\",\n",
    "    \"Celta\": \"Celta Vigo\",\n",
    "    \"Cadiz\": \"Cádiz\",\n",
    "    \"Espanol\": \"Espanyol\",\n",
    "    \"Leganes\": \"Leganés\",\n",
    "    \"Sociedad\": \"Real Sociedad\",\n",
    "    \"Vallecano\": \"Rayo Vallecano\",\n",
    "    \"Valladolid\": \"Valladolid\"\n",
    "}\n",
    "\n",
    "# Update 'Home' and 'Away' columns in Bet_365_data using the mapping\n",
    "Bet_365_data['Home'] = Bet_365_data['Home'].map(name_mapping).fillna(Bet_365_data['Home'])\n",
    "Bet_365_data['Away'] = Bet_365_data['Away'].map(name_mapping).fillna(Bet_365_data['Away'])\n",
    "\n",
    "# Verify the changes\n",
    "print(\"Updated Unique Home Teams in Bet_365_data:\")\n",
    "print(pd.Series(Bet_365_data['Home'].unique()).sort_values())\n",
    "\n",
    "# Assuming combined_matches is also loaded and available for comparison\n",
    "print(\"Unique Home Teams in combined_matches:\")\n",
    "print(pd.Series(combined_matches['Home'].unique()).sort_values())\n"
   ]
  },
  {
   "cell_type": "code",
   "execution_count": null,
   "id": "76783677-1929-4dcc-ae08-a4e608fe9527",
   "metadata": {},
   "outputs": [],
   "source": []
  },
  {
   "cell_type": "code",
   "execution_count": 13,
   "id": "8d8cfe81-fd39-45ae-a079-eebf6b7c5892",
   "metadata": {},
   "outputs": [
    {
     "name": "stdout",
     "output_type": "stream",
     "text": [
      "Updated Unique Home Teams in Bet_365_data:\n",
      "17             Alavés\n",
      "25            Almería\n",
      "12      Athletic Club\n",
      "14    Atlético Madrid\n",
      "0           Barcelona\n",
      "15              Betis\n",
      "16         Celta Vigo\n",
      "21              Cádiz\n",
      "3               Eibar\n",
      "22              Elche\n",
      "13           Espanyol\n",
      "9              Getafe\n",
      "24             Girona\n",
      "5             Granada\n",
      "20             Huesca\n",
      "26         Las Palmas\n",
      "18            Leganés\n",
      "6             Levante\n",
      "19           Mallorca\n",
      "4             Osasuna\n",
      "23     Rayo Vallecano\n",
      "1         Real Madrid\n",
      "2       Real Sociedad\n",
      "7             Sevilla\n",
      "11           Valencia\n",
      "8          Valladolid\n",
      "10         Villarreal\n",
      "dtype: object\n",
      "Unique Home Teams in combined_matches:\n",
      "17             Alavés\n",
      "25            Almería\n",
      "11      Athletic Club\n",
      "14    Atlético Madrid\n",
      "0           Barcelona\n",
      "15              Betis\n",
      "16         Celta Vigo\n",
      "21              Cádiz\n",
      "3               Eibar\n",
      "22              Elche\n",
      "13           Espanyol\n",
      "9              Getafe\n",
      "24             Girona\n",
      "5             Granada\n",
      "20             Huesca\n",
      "26         Las Palmas\n",
      "18            Leganés\n",
      "6             Levante\n",
      "19           Mallorca\n",
      "4             Osasuna\n",
      "23     Rayo Vallecano\n",
      "1         Real Madrid\n",
      "2       Real Sociedad\n",
      "7             Sevilla\n",
      "12           Valencia\n",
      "8          Valladolid\n",
      "10         Villarreal\n",
      "dtype: object\n"
     ]
    }
   ],
   "source": [
    "# Verify the changes\n",
    "print(\"Updated Unique Home Teams in Bet_365_data:\")\n",
    "print(pd.Series(Bet_365_data['Away'].unique()).sort_values())\n",
    "\n",
    "# Assuming combined_matches is also loaded and available for comparison\n",
    "print(\"Unique Home Teams in combined_matches:\")\n",
    "print(pd.Series(combined_matches['Away'].unique()).sort_values())"
   ]
  },
  {
   "cell_type": "code",
   "execution_count": null,
   "id": "fdb406fb-7a11-499a-a829-101c4709c6bd",
   "metadata": {},
   "outputs": [],
   "source": []
  },
  {
   "cell_type": "code",
   "execution_count": 14,
   "id": "acabafb0-1e3d-4d8e-bcd9-a0754b1d940d",
   "metadata": {},
   "outputs": [],
   "source": [
    "\n",
    "# First, convert \"Time\" to a full datetime if not already done\n",
    "combined_matches['Time'] = pd.to_datetime(combined_matches['Time'], format='%H:%M')\n",
    "\n",
    "# Subtract one hour from \"Time\" only where 'Home' is not 'Las Palmas'\n",
    "combined_matches.loc[combined_matches['Home'] != 'Las Palmas', 'Time'] = combined_matches['Time'] - pd.Timedelta(hours=1)\n",
    "\n",
    "# Convert back to just the time part in HH:MM format\n",
    "combined_matches['Time'] = combined_matches['Time'].dt.strftime('%H:%M')\n"
   ]
  },
  {
   "cell_type": "code",
   "execution_count": 15,
   "id": "5b1c6eb4-d556-4274-9607-2b4145281019",
   "metadata": {},
   "outputs": [
    {
     "name": "stdout",
     "output_type": "stream",
     "text": [
      "    Wk  Day       Date   Time           Home   xG Score  xG.1           Away  \\\n",
      "0  1.0  Fri 2019-08-16  20:00  Athletic Club  0.5   1–0   0.9      Barcelona   \n",
      "1  1.0  Sat 2019-08-17  16:00     Celta Vigo  1.6   1–3   2.1    Real Madrid   \n",
      "2  1.0  Sat 2019-08-17  18:00       Valencia  2.3   1–1   1.8  Real Sociedad   \n",
      "3  1.0  Sat 2019-08-17  19:00       Mallorca  1.6   2–1   0.7          Eibar   \n",
      "4  1.0  Sat 2019-08-17  20:00        Leganés  1.4   0–1   0.2        Osasuna   \n",
      "\n",
      "   Attendance  ... AvgC<2.5  AHCh B365CAHH  B365CAHA PCAHH  PCAHA  MaxCAHH  \\\n",
      "0     47693.0  ...     1.97  0.75     1.93      2.00  1.91   2.01     2.02   \n",
      "1     23566.0  ...     2.63  1.00     1.82      1.97  1.85   2.07     2.00   \n",
      "2     41846.0  ...     1.82 -0.75     1.94      1.99  1.92   2.00     1.96   \n",
      "3     15127.0  ...     1.66  0.00     2.11      1.82  2.09   1.83     2.12   \n",
      "4     10020.0  ...     1.46 -0.50     1.89      2.04  1.90   2.01     1.95   \n",
      "\n",
      "  MaxCAHA  AvgCAHH  AvgCAHA  \n",
      "0    2.03     1.91     1.98  \n",
      "1    2.20     1.82     2.06  \n",
      "2    2.12     1.89     2.00  \n",
      "3    1.88     2.07     1.83  \n",
      "4    2.06     1.90     1.99  \n",
      "\n",
      "[5 rows x 115 columns]\n",
      "Merged DataFrame shape: (1860, 115)\n"
     ]
    }
   ],
   "source": [
    "# Merge DataFrames on 'Date', 'Time', 'Home', and 'Away'\n",
    "merged_data = pd.merge(combined_matches, Bet_365_data, on=['Date', 'Time', 'Home', 'Away'], how='inner')\n",
    "\n",
    "# Check the result\n",
    "print(merged_data.head())\n",
    "print(\"Merged DataFrame shape:\", merged_data.shape)\n"
   ]
  },
  {
   "cell_type": "code",
   "execution_count": 16,
   "id": "c865484d-2a5f-4e0c-b3be-1deafd9d955c",
   "metadata": {},
   "outputs": [
    {
     "name": "stdout",
     "output_type": "stream",
     "text": [
      "Wk         0\n",
      "Day        0\n",
      "Date       0\n",
      "Time       0\n",
      "Home       0\n",
      "          ..\n",
      "PCAHA      0\n",
      "MaxCAHH    0\n",
      "MaxCAHA    0\n",
      "AvgCAHH    0\n",
      "AvgCAHA    0\n",
      "Length: 115, dtype: int64\n"
     ]
    }
   ],
   "source": [
    "print(merged_data.isnull().sum())"
   ]
  },
  {
   "cell_type": "code",
   "execution_count": 18,
   "id": "013549dc-9cbd-4c26-acea-b02c23c75d31",
   "metadata": {},
   "outputs": [],
   "source": [
    "merged_data.to_csv(\"C:/Users/Kasper/OneDrive - Aarhus universitet\\Dokumenter\\Kandidat/2. Semester/Data Science Project/Data science project part 2/merged_dataset.csv\", index=False)"
   ]
  },
  {
   "cell_type": "code",
   "execution_count": null,
   "id": "e88d9d24-871b-4d73-984e-d42486e9dc36",
   "metadata": {},
   "outputs": [],
   "source": []
  }
 ],
 "metadata": {
  "kernelspec": {
   "display_name": "Python 3 (ipykernel)",
   "language": "python",
   "name": "python3"
  },
  "language_info": {
   "codemirror_mode": {
    "name": "ipython",
    "version": 3
   },
   "file_extension": ".py",
   "mimetype": "text/x-python",
   "name": "python",
   "nbconvert_exporter": "python",
   "pygments_lexer": "ipython3",
   "version": "3.11.8"
  }
 },
 "nbformat": 4,
 "nbformat_minor": 5
}
